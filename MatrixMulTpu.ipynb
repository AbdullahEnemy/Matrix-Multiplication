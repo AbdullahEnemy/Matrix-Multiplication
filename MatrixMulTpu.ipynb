{
  "cells": [
    {
      "cell_type": "code",
      "execution_count": 1,
      "metadata": {
        "colab": {
          "base_uri": "https://localhost:8080/"
        },
        "id": "72HHa4vo7I8A",
        "outputId": "f479e5d6-3997-423c-c3d7-0d6d384e238d"
      },
      "outputs": [
        {
          "name": "stdout",
          "output_type": "stream",
          "text": [
            "Finished 0.10074424743652344 seconds...\n"
          ]
        }
      ],
      "source": [
        "import tensorflow as tf\n",
        "import numpy as np\n",
        "import time\n",
        "#configuring TPU\n",
        "resolver = tf.distribute.cluster_resolver.TPUClusterResolver()\n",
        "tf.config.experimental_connect_to_cluster(resolver)\n",
        "tf.tpu.experimental.initialize_tpu_system(resolver)\n",
        "work = tf.distribute.TPUStrategy(resolver)\n",
        "\n",
        "\n",
        "matrix_size = 4096\n",
        "input_shape = (matrix_size, matrix_size)\n",
        "\n",
        "matrix_a = tf.random.normal(input_shape)\n",
        "matrix_b = tf.random.normal(input_shape)\n",
        "np.savetxt(\"matrix_a.txt\", matrix_a.numpy())\n",
        "np.savetxt(\"matrix_b.txt\", matrix_b.numpy())\n",
        "\n",
        "start = time.time()\n",
        "# Wrap matrix multiplication within the strategy scope\n",
        "with work.scope():\n",
        "    #Matrices to TPU tensors\n",
        "    tpu_matrix_a = tf.convert_to_tensor(matrix_a)\n",
        "    tpu_matrix_b = tf.convert_to_tensor(matrix_b)\n",
        "\n",
        "    # Matrix Multilpication\n",
        "    result = tf.matmul(tpu_matrix_a, tpu_matrix_b)\n",
        "\n",
        "end = time.time()\n",
        "cpu_time_used = end-start\n",
        "np.savetxt(\"resultTPU.txt\", matrix_b.numpy())\n",
        "print(f\"Finished {cpu_time_used} seconds\")"
      ]
    }
  ],
  "metadata": {
    "accelerator": "TPU",
    "colab": {
      "gpuType": "V28",
      "provenance": []
    },
    "kernelspec": {
      "display_name": "Python 3",
      "name": "python3"
    },
    "language_info": {
      "name": "python"
    }
  },
  "nbformat": 4,
  "nbformat_minor": 0
}
